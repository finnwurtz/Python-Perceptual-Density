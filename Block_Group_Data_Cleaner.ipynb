{
 "cells": [
  {
   "cell_type": "code",
   "execution_count": 1,
   "metadata": {
    "ExecuteTime": {
     "end_time": "2021-09-28T02:48:28.657415Z",
     "start_time": "2021-09-28T02:48:27.837087Z"
    }
   },
   "outputs": [],
   "source": [
    "# This cell imports relevant libraries\n",
    "import pandas as pd\n",
    "import geopandas as gpd\n",
    "import os"
   ]
  },
  {
   "cell_type": "code",
   "execution_count": 2,
   "metadata": {
    "ExecuteTime": {
     "end_time": "2021-09-28T02:48:34.387803Z",
     "start_time": "2021-09-28T02:48:28.660377Z"
    }
   },
   "outputs": [
    {
     "name": "stdout",
     "output_type": "stream",
     "text": [
      "Input state abbreviation (e.g. ca):\n",
      "wa\n",
      "Input state FIPS code (e.g. 06):\n",
      "53\n"
     ]
    }
   ],
   "source": [
    "# CUSTOMIZE THIS CELL USING STATE'S IDENTIFIERS\n",
    "# This cell prompts users for their state of interest's identifiers\n",
    "print(\"Input state abbreviation (e.g. ca):\")\n",
    "this_state_abbr = input()\n",
    "print(\"Input state FIPS code (e.g. 06):\")\n",
    "this_state_fips = input()"
   ]
  },
  {
   "cell_type": "code",
   "execution_count": 3,
   "metadata": {
    "ExecuteTime": {
     "end_time": "2021-09-28T02:48:34.426245Z",
     "start_time": "2021-09-28T02:48:34.400013Z"
    }
   },
   "outputs": [],
   "source": [
    "# This function consolidates a state's identifiers\n",
    "def state_dict(abbreviation, fips_code):\n",
    "    return dict([('abbr', abbreviation), ('fips', fips_code)])"
   ]
  },
  {
   "cell_type": "code",
   "execution_count": 4,
   "metadata": {
    "ExecuteTime": {
     "end_time": "2021-09-28T02:48:34.449260Z",
     "start_time": "2021-09-28T02:48:34.435716Z"
    }
   },
   "outputs": [],
   "source": [
    "# CUSTOMIZE THIS CELL USING STATE'S IDENTIFIERS\n",
    "# This cell consolidates the user's state of interest's identifiers\n",
    "this_state = state_dict(this_state_abbr, this_state_fips)"
   ]
  },
  {
   "cell_type": "code",
   "execution_count": 5,
   "metadata": {
    "ExecuteTime": {
     "end_time": "2021-09-28T02:48:35.506403Z",
     "start_time": "2021-09-28T02:48:34.463721Z"
    }
   },
   "outputs": [],
   "source": [
    "# This cell reads in the data obtained from various census databases\n",
    "bgroup_file_name = \"tl_2019_\" + this_state[\\\n",
    "    'fips'] + \"_bg/tl_2019_\" + this_state[\\\n",
    "    'fips'] + \"_bg.shp\"\n",
    "bgroups_shapefile = gpd.read_file(bgroup_file_name)\n",
    "hh_file_name = this_state[\\\n",
    "    'abbr'] + '_bg_hh_acs_15_19.csv'\n",
    "bgroups_hh_acs_15_19 = pd.read_csv(hh_file_name)"
   ]
  },
  {
   "cell_type": "code",
   "execution_count": 6,
   "metadata": {
    "ExecuteTime": {
     "end_time": "2021-09-28T02:48:35.818663Z",
     "start_time": "2021-09-28T02:48:35.508894Z"
    }
   },
   "outputs": [],
   "source": [
    "# This cell cleans and combines the block group data\n",
    "fips_prefix = int(this_state['fips']) * 10000000000\n",
    "num_bgroups = len(bgroups_hh_acs_15_19)\n",
    "pd.options.mode.chained_assignment = None\n",
    "bgroups_hh_acs_15_19['[[\"State_name\"'] = bgroups_hh_acs_15_19[\\\n",
    "    '[[\"State_name\"'].str[2:-1]\n",
    "bgroups_hh_acs_15_19['block group]'] = bgroups_hh_acs_15_19[\\\n",
    "    'block group]'].str[:-1]\n",
    "bgroups_hh_acs_15_19['block group]'][\\\n",
    "    num_bgroups - 1] = bgroups_hh_acs_15_19[\\\n",
    "    'block group]'][num_bgroups - 1].strip(']')\n",
    "bgroups_hh_acs_15_19 = bgroups_hh_acs_15_19.rename(\\\n",
    "    columns = {'block group]': 'bgroup', \\\n",
    "    'Tot_Housing_Units_ACS_15_19': 'households'})\n",
    "bgroups_hh_acs_15_19 = bgroups_hh_acs_15_19.drop(\\\n",
    "    columns = ['[[\"State_name\"', 'County_name', 'Unnamed: 7'])\n",
    "bgroups_hh_acs_15_19 = bgroups_hh_acs_15_19.dropna()\n",
    "bgroups_hh_acs_15_19['GEOID'] = int(fips_prefix) + \\\n",
    "    10000000 * bgroups_hh_acs_15_19['county'].astype(int) + \\\n",
    "    10 * bgroups_hh_acs_15_19['tract'].astype(int) + \\\n",
    "    bgroups_hh_acs_15_19['bgroup'].astype(int)\n",
    "bgroups_shapefile['GEOID'] = bgroups_shapefile['GEOID'].astype(int)\n",
    "bgroups_shapefile = bgroups_shapefile.drop(\\\n",
    "    columns = ['STATEFP', 'COUNTYFP', \\\n",
    "    'TRACTCE', 'BLKGRPCE'])\n",
    "bgroups_combo = pd.merge(\\\n",
    "    bgroups_shapefile, bgroups_hh_acs_15_19, \\\n",
    "    how = 'inner', on = 'GEOID')\n",
    "bgroups_combo['GEOID'] = bgroups_combo['GEOID'].astype(str)\n",
    "if len(bgroups_combo['GEOID'][0]) == 11:\n",
    "    bgroups_combo['GEOID'] = bgroups_combo['GEOID'].apply(\\\n",
    "    lambda x: str(0) + x)\n",
    "bgroups_combo['ALAND'] = bgroups_combo['ALAND'] / 1000000\n",
    "bgroups_combo['HH_DENSITY'] = bgroups_combo[\\\n",
    "    'households'].astype(int) / bgroups_combo['ALAND']\n",
    "bgroups_combo = bgroups_combo.sort_values(\\\n",
    "    'HH_DENSITY', ascending = False)"
   ]
  },
  {
   "cell_type": "code",
   "execution_count": 7,
   "metadata": {
    "ExecuteTime": {
     "end_time": "2021-09-28T02:48:41.851703Z",
     "start_time": "2021-09-28T02:48:35.823334Z"
    }
   },
   "outputs": [],
   "source": [
    "import os.path\n",
    "from os import path\n",
    "export_folder_name = this_state['abbr'] + \"_bgroups\"\n",
    "if not path.exists(export_folder_name):\n",
    "    os.makedirs(export_folder_name)\n",
    "    export_file_name = this_state['abbr'] + \"_bgroups.shp\"\n",
    "    bgroups_combo.to_file(\\\n",
    "        driver = 'ESRI Shapefile', \\\n",
    "        filename = export_folder_name + \"/\" + export_file_name)\n",
    "else:\n",
    "    print(export_folder_name + \" already exists\")"
   ]
  },
  {
   "cell_type": "code",
   "execution_count": null,
   "metadata": {},
   "outputs": [],
   "source": []
  }
 ],
 "metadata": {
  "kernelspec": {
   "display_name": "Python 3",
   "language": "python",
   "name": "python3"
  },
  "language_info": {
   "codemirror_mode": {
    "name": "ipython",
    "version": 3
   },
   "file_extension": ".py",
   "mimetype": "text/x-python",
   "name": "python",
   "nbconvert_exporter": "python",
   "pygments_lexer": "ipython3",
   "version": "3.8.3"
  }
 },
 "nbformat": 4,
 "nbformat_minor": 4
}
